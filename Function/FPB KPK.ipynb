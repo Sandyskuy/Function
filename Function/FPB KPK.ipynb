{
 "cells": [
  {
   "cell_type": "code",
   "execution_count": 2,
   "id": "ccd6a347",
   "metadata": {},
   "outputs": [
    {
     "name": "stdout",
     "output_type": "stream",
     "text": [
      "Pilih fpb atau kpk: fpb\n",
      "Masukkan bilangan pertama: 13\n",
      "Masukkan bilangan kedua: 14\n",
      "FPB dari 13 dan 14 adalah 1\n"
     ]
    }
   ],
   "source": [
    "#Function untuk menghitung fpb dari dua bilangan a dan b.\n",
    "def hitung_fpb(a, b):\n",
    "    \n",
    "    while b != 0:\n",
    "        a, b = b, a % b\n",
    "    return a\n",
    "\n",
    "#Function untuk menghitung kpk dari dua bilangan a dan b.\n",
    "def hitung_kpk(a, b):\n",
    "\n",
    "    kpk = a * b // hitung_fpb(a, b)\n",
    "    return kpk\n",
    "\n",
    "# Alur program\n",
    "pilihan = input(\"Pilih fpb atau kpk: \") #untuk memilih kpk atau fpb\n",
    "\n",
    "if pilihan == \"fpb\": #jika nemilih fpb maka rumus ini akan dijalankan\n",
    "    bil1 = int(input(\"Masukkan bilangan pertama: \")) #menginputkan bilangan pertama\n",
    "    bil2 = int(input(\"Masukkan bilangan kedua: \")) #menginputkan bilangan kedua\n",
    "    hasil = hitung_fpb(bil1, bil2) #hasil dari memasukkan bilangan pertama dan kedua\n",
    "    print(\"FPB dari\", bil1, \"dan\", bil2, \"adalah\", hasil) #untuk menampilkan hasil dari perhitungan fpb\n",
    "    \n",
    "elif pilihan == \"kpk\": #jika nemilih kpk maka rumus ini akan dijalankan\n",
    "    bil1 = int(input(\"Masukkan bilangan pertama: \")) #menginputkan bilangan pertama\n",
    "    bil2 = int(input(\"Masukkan bilangan kedua: \")) #menginputkan bilangan kedua\n",
    "    hasil = hitung_kpk(bil1, bil2) #hasil dari memasukkan bilangan pertama dan kedua\n",
    "    print(\"KPK dari\", bil1, \"dan\", bil2, \"adalah\", hasil) #untuk menampilkan hasil dari perhitungan kpk\n",
    "    \n",
    "else:\n",
    "    print(\"Pilihan tidak valid!\") #jika memilih diluar fpb dan kpk maka akan muncul pilihan tidak valid"
   ]
  },
  {
   "cell_type": "code",
   "execution_count": null,
   "id": "e16ca4cf",
   "metadata": {},
   "outputs": [],
   "source": []
  },
  {
   "cell_type": "code",
   "execution_count": null,
   "id": "e3ca72db",
   "metadata": {},
   "outputs": [],
   "source": []
  }
 ],
 "metadata": {
  "kernelspec": {
   "display_name": "Python 3 (ipykernel)",
   "language": "python",
   "name": "python3"
  },
  "language_info": {
   "codemirror_mode": {
    "name": "ipython",
    "version": 3
   },
   "file_extension": ".py",
   "mimetype": "text/x-python",
   "name": "python",
   "nbconvert_exporter": "python",
   "pygments_lexer": "ipython3",
   "version": "3.9.12"
  }
 },
 "nbformat": 4,
 "nbformat_minor": 5
}
